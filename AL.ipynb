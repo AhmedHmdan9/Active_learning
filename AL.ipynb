{
 "cells": [
  {
   "cell_type": "markdown",
   "id": "916e47b2",
   "metadata": {},
   "source": [
    "# Active Learning"
   ]
  },
  {
   "cell_type": "markdown",
   "id": "f21522a2",
   "metadata": {},
   "source": [
    "## Imports"
   ]
  },
  {
   "cell_type": "code",
   "execution_count": 79,
   "id": "835981fc-57ac-4b56-85f8-35d7b7fa16a4",
   "metadata": {
    "run_control": {
     "marked": true
    },
    "solution": "shown",
    "solution_first": true
   },
   "outputs": [],
   "source": [
    "import numpy as np           \n",
    "import tensorflow as tf\n",
    "import pandas as pd\n",
    "from tensorflow import keras\n",
    "from keras import layers\n",
    "from keras.layers import Input, Conv1D, Dropout, Flatten, Dense, MaxPooling1D\n",
    "import matplotlib.pyplot as plt\n",
    "from sklearn.utils import shuffle\n",
    "from scikeras.wrappers import KerasClassifier\n",
    "from tensorflow.keras.models import Sequential\n",
    "from modAL.models import ActiveLearner\n",
    "import matplotlib as mpl\n",
    "from sklearn.metrics import classification_report, ConfusionMatrixDisplay\n"
   ]
  },
  {
   "cell_type": "markdown",
   "id": "525b4128",
   "metadata": {},
   "source": [
    "## Data Preprocessing"
   ]
  },
  {
   "cell_type": "code",
   "execution_count": 180,
   "id": "e0c968f6",
   "metadata": {},
   "outputs": [],
   "source": [
    "# Constants\n",
    "#FILE_PATHS = [r'New data\\test_data.csv', r'New data\\test_label.csv', r'New data/train_data.csv', r'New data/train_label.csv']\n",
    "FILE_PATHS = [r'test_data.csv', r'test_label.csv', r'train_data.csv', r'train_label.csv']\n",
    "x_train = pd.read_csv(FILE_PATHS[2])\n",
    "y_train = pd.read_csv(FILE_PATHS[3])\n",
    "x_test = pd.read_csv(FILE_PATHS[0])\n",
    "y_test = pd.read_csv(FILE_PATHS[1])\n",
    "performance = pd.read_csv('performance.csv', header=None).to_numpy()\n",
    "y_train = keras.utils.to_categorical(y_train, num_classes=3)\n",
    "y_test = keras.utils.to_categorical(y_test, num_classes=3)\n",
    "\n",
    "x_train, y_train = shuffle(x_train, y_train, random_state=45)\n",
    "#x_test, y_test = shuffle(x_test, y_test, random_state=5)\n",
    "\n",
    "# assemble initial data\n",
    "n_initial = 40\n",
    "initial_idx = np.random.choice(range(len(x_train)),\n",
    "                               size=n_initial,\n",
    "                               replace=False)\n",
    "x_initial = x_train.iloc[initial_idx]\n",
    "y_initial = y_train[initial_idx]\n",
    "x_initial = x_initial.to_numpy()\n",
    "\n",
    "# generate the pool\n",
    "# remove the initial data from the training dataset\n",
    "x_pool = np.delete(x_train, initial_idx, axis=0)\n",
    "y_pool = np.delete(y_train, initial_idx, axis=0)\n",
    "\n",
    "\n"
   ]
  },
  {
   "cell_type": "markdown",
   "id": "861c9ef0",
   "metadata": {
    "slideshow": {
     "slide_type": "slide"
    }
   },
   "source": [
    "## Data Preprocessing (480)"
   ]
  },
  {
   "cell_type": "markdown",
   "id": "b5b09132",
   "metadata": {
    "slideshow": {
     "slide_type": "slide"
    }
   },
   "source": [
    "## CNN Model"
   ]
  },
  {
   "cell_type": "code",
   "execution_count": 178,
   "id": "21db6ea1",
   "metadata": {
    "solution": "hidden"
   },
   "outputs": [],
   "source": [
    "\n",
    "def create_model():\n",
    "    model = Sequential()\n",
    "    model.add(Input(shape=(1000, 1)))\n",
    "    model.add(\n",
    "        Conv1D(filters=128, kernel_size=3, activation='relu', padding='same'))\n",
    "    model.add(MaxPooling1D(pool_size=2))\n",
    "    model.add(Dropout(0.25))\n",
    "    model.add(Conv1D(filters=128, kernel_size=3, activation='relu', padding='same'))\n",
    "    model.add(Dropout(0.25))\n",
    "    model.add(Flatten())\n",
    "    model.add(Dense(128, activation='relu', kernel_regularizer=tf.keras.regularizers.l2(0.01)))\n",
    "    model.add(Dense(80, activation='relu', kernel_regularizer=tf.keras.regularizers.l2(0.01)))\n",
    "    model.add(Dense(3, activation='softmax'))\n",
    "    model.compile( optimizer='adam',\n",
    "                  loss='categorical_crossentropy',\n",
    "                  metrics=['accuracy'])\n",
    "    return model\n",
    "\n",
    "#save the model\n",
    "model = create_model()\n",
    "\n",
    "\n",
    "# create the classifier\n",
    "classifier = KerasClassifier(create_model,\n",
    "                             optimizer='adam',\n",
    "                             loss='categorical_crossentropy',\n",
    "                             metrics=['accuracy'],\n",
    "                             shuffle=True,\n",
    "                             batch_size=32,\n",
    "                             epochs=20,\n",
    "                             verbose=1,\n",
    "                             validation_split=0.3)\n"
   ]
  },
  {
   "cell_type": "markdown",
   "id": "957363df",
   "metadata": {},
   "source": [
    "### DL Model Evaluation "
   ]
  },
  {
   "cell_type": "code",
   "execution_count": null,
   "id": "8688081b",
   "metadata": {},
   "outputs": [],
   "source": [
    "#model.fit(x_train, y_train,epochs=40, validation_split=0.3, shuffle=True,batch_size=32,verbose=1)\n",
    "classifier.fit(x_train, y_train)"
   ]
  },
  {
   "cell_type": "code",
   "execution_count": null,
   "id": "55fb57fd",
   "metadata": {},
   "outputs": [],
   "source": [
    "loss, accuracy= model.evaluate(x_test,y_test)\n",
    "print('Accuracy: %.2f' % (accuracy*100))\n",
    "print('Loss: %.2f' % (loss))\n"
   ]
  },
  {
   "cell_type": "code",
   "execution_count": null,
   "id": "8d5a7e45",
   "metadata": {},
   "outputs": [],
   "source": [
    "print(classifier.score(x_test,y_test))\n",
    "y_pred = classifier.predict(x_test).argmax(axis=1)\n",
    "y_test1 = y_test.argmax(axis=1)\n",
    "print(confusion_matrix(y_test1, y_pred))"
   ]
  },
  {
   "cell_type": "markdown",
   "id": "1748d8a8",
   "metadata": {},
   "source": [
    "## Active Learning Cycle"
   ]
  },
  {
   "cell_type": "code",
   "execution_count": 82,
   "id": "752a6d80",
   "metadata": {},
   "outputs": [
    {
     "name": "stdout",
     "output_type": "stream",
     "text": [
      "\u001b[1m10/10\u001b[0m \u001b[32m━━━━━━━━━━━━━━━━━━━━\u001b[0m\u001b[37m\u001b[0m \u001b[1m0s\u001b[0m 39ms/step\n",
      "\u001b[1m10/10\u001b[0m \u001b[32m━━━━━━━━━━━━━━━━━━━━\u001b[0m\u001b[37m\u001b[0m \u001b[1m0s\u001b[0m 18ms/step\n",
      "0.3333333333333333\n",
      "Query no. 1\n",
      "\u001b[1m15/15\u001b[0m \u001b[32m━━━━━━━━━━━━━━━━━━━━\u001b[0m\u001b[37m\u001b[0m \u001b[1m0s\u001b[0m 18ms/step\n",
      "\u001b[1m10/10\u001b[0m \u001b[32m━━━━━━━━━━━━━━━━━━━━\u001b[0m\u001b[37m\u001b[0m \u001b[1m0s\u001b[0m 26ms/step\n",
      "Accuracy after query 1: 0.4033\n",
      "Query no. 2\n",
      "\u001b[1m13/13\u001b[0m \u001b[32m━━━━━━━━━━━━━━━━━━━━\u001b[0m\u001b[37m\u001b[0m \u001b[1m0s\u001b[0m 18ms/step\n",
      "\u001b[1m10/10\u001b[0m \u001b[32m━━━━━━━━━━━━━━━━━━━━\u001b[0m\u001b[37m\u001b[0m \u001b[1m0s\u001b[0m 24ms/step\n",
      "Accuracy after query 2: 0.4867\n",
      "Query no. 3\n",
      "\u001b[1m12/12\u001b[0m \u001b[32m━━━━━━━━━━━━━━━━━━━━\u001b[0m\u001b[37m\u001b[0m \u001b[1m0s\u001b[0m 18ms/step\n",
      "\u001b[1m10/10\u001b[0m \u001b[32m━━━━━━━━━━━━━━━━━━━━\u001b[0m\u001b[37m\u001b[0m \u001b[1m0s\u001b[0m 30ms/step\n",
      "Accuracy after query 3: 0.4667\n",
      "Query no. 4\n",
      "\u001b[1m11/11\u001b[0m \u001b[32m━━━━━━━━━━━━━━━━━━━━\u001b[0m\u001b[37m\u001b[0m \u001b[1m0s\u001b[0m 16ms/step\n",
      "\u001b[1m10/10\u001b[0m \u001b[32m━━━━━━━━━━━━━━━━━━━━\u001b[0m\u001b[37m\u001b[0m \u001b[1m0s\u001b[0m 30ms/step\n",
      "Accuracy after query 4: 0.5167\n",
      "Query no. 5\n",
      "\u001b[1m10/10\u001b[0m \u001b[32m━━━━━━━━━━━━━━━━━━━━\u001b[0m\u001b[37m\u001b[0m \u001b[1m0s\u001b[0m 19ms/step\n",
      "\u001b[1m10/10\u001b[0m \u001b[32m━━━━━━━━━━━━━━━━━━━━\u001b[0m\u001b[37m\u001b[0m \u001b[1m0s\u001b[0m 23ms/step\n",
      "Accuracy after query 5: 0.5600\n",
      "Query no. 6\n",
      "\u001b[1m8/8\u001b[0m \u001b[32m━━━━━━━━━━━━━━━━━━━━\u001b[0m\u001b[37m\u001b[0m \u001b[1m0s\u001b[0m 17ms/step\n",
      "\u001b[1m10/10\u001b[0m \u001b[32m━━━━━━━━━━━━━━━━━━━━\u001b[0m\u001b[37m\u001b[0m \u001b[1m0s\u001b[0m 23ms/step\n",
      "Accuracy after query 6: 0.8867\n",
      "Query no. 7\n",
      "\u001b[1m7/7\u001b[0m \u001b[32m━━━━━━━━━━━━━━━━━━━━\u001b[0m\u001b[37m\u001b[0m \u001b[1m0s\u001b[0m 16ms/step\n",
      "\u001b[1m10/10\u001b[0m \u001b[32m━━━━━━━━━━━━━━━━━━━━\u001b[0m\u001b[37m\u001b[0m \u001b[1m0s\u001b[0m 30ms/step\n",
      "Accuracy after query 7: 0.7567\n",
      "Query no. 8\n",
      "\u001b[1m6/6\u001b[0m \u001b[32m━━━━━━━━━━━━━━━━━━━━\u001b[0m\u001b[37m\u001b[0m \u001b[1m0s\u001b[0m 18ms/step\n",
      "\u001b[1m10/10\u001b[0m \u001b[32m━━━━━━━━━━━━━━━━━━━━\u001b[0m\u001b[37m\u001b[0m \u001b[1m0s\u001b[0m 23ms/step\n",
      "Accuracy after query 8: 0.6767\n",
      "Query no. 9\n",
      "\u001b[1m5/5\u001b[0m \u001b[32m━━━━━━━━━━━━━━━━━━━━\u001b[0m\u001b[37m\u001b[0m \u001b[1m0s\u001b[0m 15ms/step\n",
      "\u001b[1m10/10\u001b[0m \u001b[32m━━━━━━━━━━━━━━━━━━━━\u001b[0m\u001b[37m\u001b[0m \u001b[1m0s\u001b[0m 23ms/step\n",
      "Accuracy after query 9: 0.9933\n",
      "Query no. 10\n",
      "\u001b[1m3/3\u001b[0m \u001b[32m━━━━━━━━━━━━━━━━━━━━\u001b[0m\u001b[37m\u001b[0m \u001b[1m0s\u001b[0m 16ms/step\n",
      "\u001b[1m10/10\u001b[0m \u001b[32m━━━━━━━━━━━━━━━━━━━━\u001b[0m\u001b[37m\u001b[0m \u001b[1m0s\u001b[0m 25ms/step\n",
      "Accuracy after query 10: 0.9967\n",
      "Query no. 11\n",
      "\u001b[1m2/2\u001b[0m \u001b[32m━━━━━━━━━━━━━━━━━━━━\u001b[0m\u001b[37m\u001b[0m \u001b[1m0s\u001b[0m 14ms/step\n",
      "\u001b[1m10/10\u001b[0m \u001b[32m━━━━━━━━━━━━━━━━━━━━\u001b[0m\u001b[37m\u001b[0m \u001b[1m0s\u001b[0m 27ms/step\n",
      "Accuracy after query 11: 0.9800\n"
     ]
    }
   ],
   "source": [
    "# initialize ActiveLearner\n",
    "learner = ActiveLearner(estimator=classifier,\n",
    "                        X_training=x_initial,\n",
    "                        y_training=y_initial,\n",
    "                        verbose=0)\n",
    "unqueried_score = learner.score(x_test,y_test)\n",
    "unqueried_recall = learner.score(x_test,y_test,)\n",
    "print(unqueried_score)\n",
    "performance_history = [unqueried_score]\n",
    "current_epochs = 12\n",
    "current_batch_size=10\n",
    "n_queries = 11\n",
    "# the active learning loop\n",
    "for idx in range(n_queries):\n",
    "    print('Query no. %d' % (idx + 1))\n",
    "    query_idx, query_instance = learner.query(x_pool,n_instances=40)\n",
    "\n",
    "    queried_x = x_pool[query_idx]\n",
    "    queried_y = y_pool[query_idx]\n",
    "    \n",
    "    \n",
    "    learner.teach(\n",
    "    X=queried_x, \n",
    "    y=queried_y,\n",
    "    verbose=0,\n",
    "    epochs=current_epochs, \n",
    "    batch_size=current_batch_size,\n",
    "    validation_split=0.3 \n",
    "            )\n",
    "    \n",
    "\n",
    "    # remove queried instance from pool\n",
    "    x_pool = np.delete(x_pool, query_idx, axis=0)\n",
    "    y_pool = np.delete(y_pool, query_idx, axis=0)\n",
    "\n",
    "\n",
    "    # Calculate and report our model's accuracy.\n",
    "    model_accuracy = learner.score(x_test,y_test)\n",
    "    print('Accuracy after query {n}: {acc:0.4f}'.format(n=idx + 1, acc=model_accuracy))\n",
    "    # Save our model's performance for plotting.\n",
    "    performance_history.append(model_accuracy)\n",
    "    # Increment the number of epochs for the next query\n",
    "    current_epochs += 2\n",
    "    current_batch_size+=1"
   ]
  },
  {
   "cell_type": "markdown",
   "id": "091be313",
   "metadata": {},
   "source": [
    "### Model Evaluation"
   ]
  },
  {
   "cell_type": "code",
   "execution_count": 83,
   "id": "9dfd12a3",
   "metadata": {},
   "outputs": [
    {
     "name": "stdout",
     "output_type": "stream",
     "text": [
      "\u001b[1m10/10\u001b[0m \u001b[32m━━━━━━━━━━━━━━━━━━━━\u001b[0m\u001b[37m\u001b[0m \u001b[1m1s\u001b[0m 23ms/step\n"
     ]
    }
   ],
   "source": [
    "y_pred = learner.predict(x_test).argmax(axis=1)\n",
    "y_true = y_test.argmax(axis=1)"
   ]
  },
  {
   "cell_type": "code",
   "execution_count": 87,
   "id": "54c65684",
   "metadata": {},
   "outputs": [
    {
     "data": {
      "image/png": "[encoded data removed]",
      "text/plain": [
       "<Figure size 640x480 with 2 Axes>"
      ]
     },
     "metadata": {},
     "output_type": "display_data"
    }
   ],
   "source": [
    "\n",
    "class_names = ['Normal','periodic jammer', 'constant jammer']\n",
    "#confusion matrix\n",
    "from sklearn.metrics import ConfusionMatrixDisplay\n",
    "from sklearn.metrics import plo\n",
    "display = ConfusionMatrixDisplay.from_predictions(y_true, y_pred, \n",
    "                                                  display_labels=class_names,\n",
    "                                                  cmap='Blues',\n",
    "                                                  xticks_rotation=45)\n",
    "display.figure_.suptitle(title)\n",
    "plt.show()"
   ]
  },
  {
   "cell_type": "code",
   "execution_count": 85,
   "id": "f157705b",
   "metadata": {},
   "outputs": [
    {
     "name": "stdout",
     "output_type": "stream",
     "text": [
      "                 precision    recall  f1-score   support\n",
      "\n",
      "         Normal       0.95      0.99      0.97       100\n",
      "periodic jammer       0.99      0.95      0.97       100\n",
      "constant jammer       1.00      1.00      1.00       100\n",
      "\n",
      "       accuracy                           0.98       300\n",
      "      macro avg       0.98      0.98      0.98       300\n",
      "   weighted avg       0.98      0.98      0.98       300\n",
      "\n"
     ]
    }
   ],
   "source": [
    "print(classification_report(y_true, y_pred, target_names=class_names))\n"
   ]
  },
  {
   "cell_type": "markdown",
   "id": "233d180b",
   "metadata": {},
   "source": [
    "## Active Learning Cycle (monte carlo)"
   ]
  },
  {
   "cell_type": "code",
   "execution_count": null,
   "id": "faf12cee",
   "metadata": {
    "code_folding": [],
    "run_control": {
     "marked": false
    },
    "scrolled": true,
    "solution": "shown"
   },
   "outputs": [],
   "source": [
    "for i in range(20):\n",
    "\n",
    "      # initialize ActiveLearner\n",
    "      learner = ActiveLearner(estimator=classifier,\n",
    "                              X_training=x_initial,\n",
    "                              y_training=y_initial,\n",
    "                              verbose=0)\n",
    "      unqueried_score = learner.score(x_test,y_test)\n",
    "      print(unqueried_score)\n",
    "      performance_history = [unqueried_score]\n",
    "      current_epochs = 12\n",
    "      current_batch_size=10\n",
    "      n_queries = 15\n",
    "\n",
    "\n",
    "      # the active learning loop\n",
    "      for idx in range(n_queries):\n",
    "            print('Query no. %d' % (idx + 1))\n",
    "            query_idx, query_instance = learner.query(x_pool,n_instances=30)\n",
    "\n",
    "            queried_x = x_pool[query_idx]\n",
    "            queried_y = y_pool[query_idx]\n",
    "            \n",
    "            \n",
    "            learner.teach(\n",
    "            X=queried_x, \n",
    "            y=queried_y,\n",
    "            verbose=0,\n",
    "            epochs=current_epochs, \n",
    "            batch_size=current_batch_size,\n",
    "            validation_split=0.3 \n",
    "                  )\n",
    "            \n",
    "      \n",
    "            # remove queried instance from pool\n",
    "            x_pool = np.delete(x_pool, query_idx, axis=0)\n",
    "            y_pool = np.delete(y_pool, query_idx, axis=0)\n",
    "\n",
    "      \n",
    "            # Calculate and report our model's accuracy.\n",
    "            model_accuracy = learner.score(x_test,y_test)\n",
    "            print('Accuracy after query {n}: {acc:0.4f}'.format(n=idx + 1, acc=model_accuracy))\n",
    "            # Save our model's performance for plotting.\n",
    "            performance_history.append(model_accuracy)\n",
    "            # Increment the number of epochs for the next query\n",
    "            current_epochs += 2\n",
    "            current_batch_size+=1\n",
    "      performance[i+34] = np.array(performance_history).reshape(1, len(performance_history))    \n",
    "      #save as csv\n",
    "      pd.DataFrame(performance).to_csv('performance.csv', index=False, header=False)\n",
    "      print(\"saved\")# assemble initial data\n",
    "      initial_idx = np.random.choice(range(len(x_train)),\n",
    "                                    size=n_initial,\n",
    "                                    replace=False)\n",
    "      x_initial = x_train.iloc[initial_idx]\n",
    "      y_initial = y_train[initial_idx]\n",
    "      x_initial = x_initial.to_numpy()\n",
    "\n",
    "      # generate the pool\n",
    "      # remove the initial data from the training dataset\n",
    "      x_pool = np.delete(x_train, initial_idx, axis=0)\n",
    "      y_pool = np.delete(y_train, initial_idx, axis=0)  \n",
    "    "
   ]
  },
  {
   "cell_type": "markdown",
   "id": "12e85c07",
   "metadata": {},
   "source": [
    "### Model Evaluation (monte carlo)"
   ]
  },
  {
   "cell_type": "code",
   "execution_count": 91,
   "id": "489d0a75",
   "metadata": {},
   "outputs": [
    {
     "data": {
      "image/png": "[encoded data removed]",
      "text/plain": [
       "<Figure size 650x350 with 1 Axes>"
      ]
     },
     "metadata": {},
     "output_type": "display_data"
    }
   ],
   "source": [
    "performance = pd.read_csv('performance.csv', header=None)\n",
    "means = performance.mean()\n",
    "stds = performance.std()\n",
    "plt.style.use('default')\n",
    "# Plot our performance over time.\n",
    "fig, ax = plt.subplots(figsize=(6.5, 3.5))\n",
    "ax.plot(means)\n",
    "ax.fill_between(range(len(means)), means-stds, means+stds, alpha=0.1, color='orange')\n",
    "ax.scatter(range(len(means)), means, s=13)\n",
    "ax.xaxis.set_major_locator(mpl.ticker.MaxNLocator(nbins=16, integer=True, min_n_ticks=16))\n",
    "ax.yaxis.set_major_locator(mpl.ticker.MaxNLocator(nbins=10))\n",
    "ax.yaxis.set_major_formatter(mpl.ticker.PercentFormatter(xmax=1))\n",
    "ax.set_ylim(bottom=0, top=1)\n",
    "ax.grid(True)\n",
    "#ax.set_title('Incremental classification accuracy')\n",
    "ax.set_xlabel('Query iteration')\n",
    "ax.set_ylabel('Classification Accuracy')\n",
    "plt.show()\n",
    "#save the plot\n",
    "fig.savefig('AL.png')"
   ]
  }
 ],
 "metadata": {
  "kernelspec": {
   "display_name": "base",
   "language": "python",
   "name": "python3"
  },
  "language_info": {
   "codemirror_mode": {
    "name": "ipython",
    "version": 3
   },
   "file_extension": ".py",
   "mimetype": "text/x-python",
   "name": "python",
   "nbconvert_exporter": "python",
   "pygments_lexer": "ipython3",
   "version": "3.12.7"
  },
  "varInspector": {
   "cols": {
    "lenName": 16,
    "lenType": 16,
    "lenVar": 40
   },
   "kernels_config": {
    "python": {
     "delete_cmd_postfix": "",
     "delete_cmd_prefix": "del ",
     "library": "var_list.py",
     "varRefreshCmd": "print(var_dic_list())"
    },
    "r": {
     "delete_cmd_postfix": ") ",
     "delete_cmd_prefix": "rm(",
     "library": "var_list.r",
     "varRefreshCmd": "cat(var_dic_list()) "
    }
   },
   "types_to_exclude": [
    "module",
    "function",
    "builtin_function_or_method",
    "instance",
    "_Feature"
   ],
   "window_display": false
  }
 },
 "nbformat": 4,
 "nbformat_minor": 5
}
